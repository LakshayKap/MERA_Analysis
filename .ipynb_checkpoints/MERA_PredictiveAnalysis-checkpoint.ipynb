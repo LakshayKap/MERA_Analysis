{
 "cells": [
  {
   "cell_type": "code",
   "execution_count": 1,
   "id": "00ce2e5a-207a-4274-997f-d4d7b6e5406a",
   "metadata": {},
   "outputs": [],
   "source": [
    "import pandas as pd\n",
    "import numpy as np\n",
    "import matplotlib.pyplot as plt\n",
    "import seaborn as sns\n",
    "from sklearn.model_selection import train_test_split\n",
    "from sklearn.preprocessing import StandardScaler\n",
    "from sklearn.ensemble import RandomForestClassifier\n",
    "from sklearn.metrics import accuracy_score, classification_report, confusion_matrix\n",
    "from sklearn.cluster import KMeans\n",
    "from sklearn.decomposition import PCA\n",
    "from sklearn.model_selection import GridSearchCV"
   ]
  },
  {
   "cell_type": "code",
   "execution_count": 3,
   "id": "4ec21049-40de-4ede-9631-5fbcb207d3fc",
   "metadata": {},
   "outputs": [
    {
     "name": "stdout",
     "output_type": "stream",
     "text": [
      "Dataset Description\n",
      "<class 'pandas.core.frame.DataFrame'>\n",
      "RangeIndex: 16441 entries, 0 to 16440\n",
      "Data columns (total 36 columns):\n",
      " #   Column                       Non-Null Count  Dtype  \n",
      "---  ------                       --------------  -----  \n",
      " 0   date                         16441 non-null  object \n",
      " 1   max_temp                     16441 non-null  float64\n",
      " 2   min_temp                     16441 non-null  float64\n",
      " 3   igmin                        16441 non-null  int64  \n",
      " 4   min_grass                    16436 non-null  float64\n",
      " 5   rain                         16441 non-null  float64\n",
      " 6   pressure_cbl                 16441 non-null  float64\n",
      " 7   wind_speed                   16441 non-null  float64\n",
      " 8   max_10minute_wind            16441 non-null  float64\n",
      " 9   dir_10minute_wind            16441 non-null  float64\n",
      " 10  max_gust                     16441 non-null  float64\n",
      " 11  sun                          16441 non-null  float64\n",
      " 12  dos                          16437 non-null  float64\n",
      " 13  global_radiation             16441 non-null  object \n",
      " 14  soil                         16441 non-null  float64\n",
      " 15  potential_evap               16441 non-null  float64\n",
      " 16  evap                         16439 non-null  float64\n",
      " 17  smd_wd                       16441 non-null  float64\n",
      " 18  smd_md                       16441 non-null  float64\n",
      " 19  smd_pd                       16441 non-null  float64\n",
      " 20  Latitude                     16441 non-null  float64\n",
      " 21  Longitude                    16441 non-null  float64\n",
      " 22  Station Name                 16441 non-null  object \n",
      " 23  year                         16441 non-null  int64  \n",
      " 24  month                        16441 non-null  int64  \n",
      " 25  day                          16441 non-null  int64  \n",
      " 26  temp_range                   16441 non-null  float64\n",
      " 27  smd_combined                 16441 non-null  float64\n",
      " 28  wind_category                16441 non-null  object \n",
      " 29  extreme_rain                 16441 non-null  int64  \n",
      " 30  heatwave                     16441 non-null  int64  \n",
      " 31  high_wind                    16441 non-null  int64  \n",
      " 32  extreme_weather              16441 non-null  int64  \n",
      " 33  extreme_weather_combination  16441 non-null  object \n",
      " 34  sun_category                 16441 non-null  object \n",
      " 35  season                       16441 non-null  object \n",
      "dtypes: float64(21), int64(8), object(7)\n",
      "memory usage: 4.5+ MB\n",
      "None\n"
     ]
    }
   ],
   "source": [
    "df2 = pd.read_csv(\"/Users/lakshaykapur/Developer/ADS/MERA_Analysis/DMAT/Mera_CleanData.csv\")\n",
    "print(\"Dataset Description\")\n",
    "print(df2.info())"
   ]
  },
  {
   "cell_type": "code",
   "execution_count": 12,
   "id": "4af3433e-2ab0-4c51-a0fb-b25b3bfd24d5",
   "metadata": {},
   "outputs": [],
   "source": [
    "df2 = df2.dropna()"
   ]
  },
  {
   "cell_type": "code",
   "execution_count": 13,
   "id": "7a32ef79-fa3a-47c2-a549-8f958d09bfa3",
   "metadata": {},
   "outputs": [
    {
     "data": {
      "text/plain": [
       "<bound method NDFrame.describe of        max_temp  min_temp  igmin  min_grass  rain  pressure_cbl  wind_speed  \\\n",
       "0         -0.27     -0.36      1      -1.18   0.9         997.9       -0.31   \n",
       "1         -0.48     -0.48      0      -0.29   0.7         998.8       -0.45   \n",
       "2          0.48      0.60      0       0.62   4.8         990.8        0.92   \n",
       "3         -0.15      0.22      0       0.21   0.5         990.0        0.74   \n",
       "4         -0.40     -0.14      0      -0.04   0.0        1001.6        0.51   \n",
       "...         ...       ...    ...        ...   ...           ...         ...   \n",
       "16436      0.26     -0.50      0      -0.50   3.1        1007.8       -0.27   \n",
       "16437      0.28      1.15      0       0.64   1.1        1007.8       -0.36   \n",
       "16438     -0.38      0.76      0       0.85   0.0        1015.1       -0.70   \n",
       "16439      0.34      0.78      0       0.75   0.0        1018.7       -1.34   \n",
       "16440     -0.44      0.83      0       1.04   0.0        1015.8       -0.74   \n",
       "\n",
       "       max_10minute_wind  dir_10minute_wind  max_gust  ...  \\\n",
       "0                  -0.26               0.89     -0.40  ...   \n",
       "1                  -0.88               0.42     -0.91  ...   \n",
       "2                   0.96               0.07      1.05  ...   \n",
       "3                   0.96               0.54      1.15  ...   \n",
       "4                   0.20               0.42      0.12  ...   \n",
       "...                  ...                ...       ...  ...   \n",
       "16436              -0.42              -0.04      0.02  ...   \n",
       "16437              -0.88               0.77     -0.50  ...   \n",
       "16438              -0.88               1.01     -1.12  ...   \n",
       "16439              -1.49               0.89     -1.32  ...   \n",
       "16440              -1.33               0.42     -1.01  ...   \n",
       "\n",
       "       extreme_weather_combination_0-1-0  extreme_weather_combination_0-1-1  \\\n",
       "0                                  False                               True   \n",
       "1                                  False                               True   \n",
       "2                                  False                              False   \n",
       "3                                  False                               True   \n",
       "4                                  False                               True   \n",
       "...                                  ...                                ...   \n",
       "16436                              False                              False   \n",
       "16437                              False                               True   \n",
       "16438                              False                               True   \n",
       "16439                              False                               True   \n",
       "16440                              False                               True   \n",
       "\n",
       "       extreme_weather_combination_1-0-1  extreme_weather_combination_1-1-1  \\\n",
       "0                                  False                              False   \n",
       "1                                  False                              False   \n",
       "2                                  False                               True   \n",
       "3                                  False                              False   \n",
       "4                                  False                              False   \n",
       "...                                  ...                                ...   \n",
       "16436                              False                               True   \n",
       "16437                              False                              False   \n",
       "16438                              False                              False   \n",
       "16439                              False                              False   \n",
       "16440                              False                              False   \n",
       "\n",
       "       sun_category_High  sun_category_Moderate  sun_category_Very High  \\\n",
       "0                  False                  False                   False   \n",
       "1                  False                   True                   False   \n",
       "2                  False                   True                   False   \n",
       "3                  False                  False                   False   \n",
       "4                  False                  False                   False   \n",
       "...                  ...                    ...                     ...   \n",
       "16436              False                   True                   False   \n",
       "16437              False                   True                   False   \n",
       "16438              False                   True                   False   \n",
       "16439              False                  False                   False   \n",
       "16440              False                   True                   False   \n",
       "\n",
       "       season_Spring  season_Summer  season_Winter  \n",
       "0              False          False          False  \n",
       "1              False          False          False  \n",
       "2              False          False          False  \n",
       "3              False          False          False  \n",
       "4              False          False          False  \n",
       "...              ...            ...            ...  \n",
       "16436          False          False          False  \n",
       "16437          False          False          False  \n",
       "16438          False          False          False  \n",
       "16439          False          False          False  \n",
       "16440          False          False          False  \n",
       "\n",
       "[16430 rows x 19197 columns]>"
      ]
     },
     "execution_count": 13,
     "metadata": {},
     "output_type": "execute_result"
    }
   ],
   "source": [
    "# Convert categorical variables to numeric\n",
    "df3 = pd.get_dummies(df2, drop_first=True)  # One-hot encoding\n",
    "df3.describe"
   ]
  },
  {
   "cell_type": "code",
   "execution_count": 14,
   "id": "69b1f3a1-cfeb-4b78-9787-27ff405573a9",
   "metadata": {},
   "outputs": [
    {
     "name": "stdout",
     "output_type": "stream",
     "text": [
      "(11501, 19196) (2464, 19196) (2465, 19196)\n"
     ]
    }
   ],
   "source": [
    "# Feature scaling (Standardization)\n",
    "scaler = StandardScaler()\n",
    "data_scaled = scaler.fit_transform(df3.drop('extreme_weather', axis=1))\n",
    "\n",
    "# Convert the scaled data back to a DataFrame\n",
    "data_scaled_df = pd.DataFrame(data_scaled, columns=df3.drop('extreme_weather', axis=1).columns)\n",
    "\n",
    "# Now, split the data into features and target\n",
    "X = data_scaled_df\n",
    "y = df3['extreme_weather']\n",
    "\n",
    "# Splitting the data into training, testing, and validation sets\n",
    "X_train, X_temp, y_train, y_temp = train_test_split(X, y, test_size=0.3, random_state=42)  # 70% train, 30% temp\n",
    "X_val, X_test, y_val, y_test = train_test_split(X_temp, y_temp, test_size=0.5, random_state=42)  # 50% for validation and test\n",
    "\n",
    "# Check the shapes of the splits\n",
    "print(X_train.shape, X_val.shape, X_test.shape)"
   ]
  },
  {
   "cell_type": "code",
   "execution_count": 15,
   "id": "3edda563-f180-44ae-b4da-2eebf00139f7",
   "metadata": {},
   "outputs": [
    {
     "name": "stdout",
     "output_type": "stream",
     "text": [
      "Accuracy: 1.0\n",
      "Classification Report:\n",
      "               precision    recall  f1-score   support\n",
      "\n",
      "           0       1.00      1.00      1.00      1849\n",
      "           1       1.00      1.00      1.00       616\n",
      "\n",
      "    accuracy                           1.00      2465\n",
      "   macro avg       1.00      1.00      1.00      2465\n",
      "weighted avg       1.00      1.00      1.00      2465\n",
      "\n",
      "Confusion Matrix:\n",
      " [[1849    0]\n",
      " [   0  616]]\n"
     ]
    }
   ],
   "source": [
    "# Classifier: Random Forest\n",
    "clf = RandomForestClassifier(random_state=42)\n",
    "clf.fit(X_train, y_train)\n",
    "\n",
    "# Predictions\n",
    "y_pred = clf.predict(X_test)\n",
    "\n",
    "# Model evaluation\n",
    "print('Accuracy:', accuracy_score(y_test, y_pred))\n",
    "print('Classification Report:\\n', classification_report(y_test, y_pred))\n",
    "print('Confusion Matrix:\\n', confusion_matrix(y_test, y_pred))"
   ]
  },
  {
   "cell_type": "code",
   "execution_count": null,
   "id": "3d526b0c-4193-406e-8add-40f6d3ba294f",
   "metadata": {},
   "outputs": [],
   "source": []
  }
 ],
 "metadata": {
  "kernelspec": {
   "display_name": "Python 3 (ipykernel)",
   "language": "python",
   "name": "python3"
  },
  "language_info": {
   "codemirror_mode": {
    "name": "ipython",
    "version": 3
   },
   "file_extension": ".py",
   "mimetype": "text/x-python",
   "name": "python",
   "nbconvert_exporter": "python",
   "pygments_lexer": "ipython3",
   "version": "3.11.7"
  }
 },
 "nbformat": 4,
 "nbformat_minor": 5
}
